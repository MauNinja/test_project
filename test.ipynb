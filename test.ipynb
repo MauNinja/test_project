{
 "cells": [
  {
   "cell_type": "code",
   "execution_count": 1,
   "id": "1ebe3404-a3a3-425e-a409-c1f89161231f",
   "metadata": {},
   "outputs": [
    {
     "name": "stdout",
     "output_type": "stream",
     "text": [
      "Hello, World!\n"
     ]
    }
   ],
   "source": [
    "print(\"Hello, World!\")"
   ]
  },
  {
   "cell_type": "code",
   "execution_count": 2,
   "id": "7b654c69-eeda-4299-a121-6f8bdaa0bfa7",
   "metadata": {},
   "outputs": [
    {
     "data": {
      "text/plain": [
       "4"
      ]
     },
     "execution_count": 2,
     "metadata": {},
     "output_type": "execute_result"
    }
   ],
   "source": [
    "1+3"
   ]
  },
  {
   "cell_type": "code",
   "execution_count": 7,
   "id": "07949a58-4730-4234-8c41-5bc49f89fa62",
   "metadata": {},
   "outputs": [
    {
     "data": {
      "text/plain": [
       "1"
      ]
     },
     "execution_count": 7,
     "metadata": {},
     "output_type": "execute_result"
    }
   ],
   "source": [
    "x=1\n",
    "x"
   ]
  },
  {
   "cell_type": "code",
   "execution_count": 10,
   "id": "4d0c313d-bc22-4f65-a429-c84f51fb53fe",
   "metadata": {},
   "outputs": [
    {
     "name": "stdout",
     "output_type": "stream",
     "text": [
      "8\n"
     ]
    }
   ],
   "source": [
    "y = 8\n",
    "print(y)"
   ]
  },
  {
   "cell_type": "code",
   "execution_count": 11,
   "id": "da056797-1469-4616-a5ff-a29b42c23351",
   "metadata": {},
   "outputs": [
    {
     "name": "stdout",
     "output_type": "stream",
     "text": [
      "2\n"
     ]
    }
   ],
   "source": [
    "a=1+1\n",
    "print(a)"
   ]
  },
  {
   "cell_type": "code",
   "execution_count": 28,
   "id": "34352e21-db5b-49f0-a4bf-0f7767a1a211",
   "metadata": {},
   "outputs": [
    {
     "data": {
      "text/plain": [
       "1000.0"
      ]
     },
     "execution_count": 28,
     "metadata": {},
     "output_type": "execute_result"
    }
   ],
   "source": [
    "my_salary = 10000\n",
    "tax_rate = 0.1\n",
    "my_taxes = my_salary * tax_rate\n",
    "my_taxes"
   ]
  },
  {
   "cell_type": "code",
   "execution_count": 20,
   "id": "13002e5e-a720-4f40-84e3-84dcd9a5b1f9",
   "metadata": {},
   "outputs": [
    {
     "name": "stdout",
     "output_type": "stream",
     "text": [
      "{'fruits': 'banana', 'test': 'sweet', 'year': 2001}\n"
     ]
    }
   ],
   "source": [
    "thisdict ={ \n",
    "    \"fruits\":\"banana\",\n",
    "    \"test\":\"sweet\",\n",
    "    \"year\":2000,\n",
    "    'year':2001,\n",
    "}\n",
    "print(thisdict)"
   ]
  },
  {
   "cell_type": "code",
   "execution_count": 16,
   "id": "cc8634f3-3f46-4579-8a13-bfcc2908777b",
   "metadata": {},
   "outputs": [
    {
     "data": {
      "text/plain": [
       "2"
      ]
     },
     "execution_count": 16,
     "metadata": {},
     "output_type": "execute_result"
    }
   ],
   "source": [
    "1+1"
   ]
  },
  {
   "cell_type": "code",
   "execution_count": 17,
   "id": "c1d635ad-6733-452d-8030-448158702ffc",
   "metadata": {},
   "outputs": [
    {
     "data": {
      "text/plain": [
       "2"
      ]
     },
     "execution_count": 17,
     "metadata": {},
     "output_type": "execute_result"
    }
   ],
   "source": [
    "a=1+1\n",
    "a"
   ]
  },
  {
   "cell_type": "code",
   "execution_count": 18,
   "id": "16517a79-357b-4325-8933-da682a571123",
   "metadata": {},
   "outputs": [
    {
     "name": "stdout",
     "output_type": "stream",
     "text": [
      "2\n"
     ]
    }
   ],
   "source": [
    "print(a)"
   ]
  },
  {
   "cell_type": "code",
   "execution_count": 20,
   "id": "e3f623e4-dc81-4a49-b036-79a4e4552108",
   "metadata": {},
   "outputs": [
    {
     "name": "stdout",
     "output_type": "stream",
     "text": [
      "45\n"
     ]
    }
   ],
   "source": [
    "5*9\n",
    "a=5*9\n",
    "print(a)"
   ]
  },
  {
   "cell_type": "code",
   "execution_count": 25,
   "id": "bf942e18-bcf2-480c-a2d0-73b56540c153",
   "metadata": {},
   "outputs": [
    {
     "data": {
      "text/plain": [
       "'black'"
      ]
     },
     "execution_count": 25,
     "metadata": {},
     "output_type": "execute_result"
    }
   ],
   "source": [
    "x=6\n",
    "y=\"black\"\n",
    "x\n",
    "y"
   ]
  },
  {
   "cell_type": "code",
   "execution_count": 26,
   "id": "881182c4-4b81-45aa-9036-14fe5fc3edc1",
   "metadata": {},
   "outputs": [
    {
     "name": "stdout",
     "output_type": "stream",
     "text": [
      "6\n",
      "black\n"
     ]
    }
   ],
   "source": [
    "print(x)\n",
    "print(y)"
   ]
  },
  {
   "cell_type": "code",
   "execution_count": 31,
   "id": "a852688a-92f2-4445-94a4-ba640905a2cc",
   "metadata": {},
   "outputs": [],
   "source": [
    "my_list=(\"sushama\",\"sharad\")"
   ]
  },
  {
   "cell_type": "code",
   "execution_count": 32,
   "id": "d3fd27ec-aa79-4ffa-adf4-01d52351eda9",
   "metadata": {},
   "outputs": [
    {
     "name": "stdout",
     "output_type": "stream",
     "text": [
      "('sushama', 'sharad')\n"
     ]
    }
   ],
   "source": [
    "print(my_list)"
   ]
  },
  {
   "cell_type": "code",
   "execution_count": 33,
   "id": "cf0fcc6a-0a81-4c79-9beb-62b0f04682ab",
   "metadata": {},
   "outputs": [
    {
     "data": {
      "text/plain": [
       "int"
      ]
     },
     "execution_count": 33,
     "metadata": {},
     "output_type": "execute_result"
    }
   ],
   "source": [
    "#number\n",
    "\n",
    "a=4\n",
    "type(a)"
   ]
  },
  {
   "cell_type": "code",
   "execution_count": 34,
   "id": "fcb2e4c6-9895-495b-aaac-1da6fe97dc09",
   "metadata": {},
   "outputs": [
    {
     "data": {
      "text/plain": [
       "float"
      ]
     },
     "execution_count": 34,
     "metadata": {},
     "output_type": "execute_result"
    }
   ],
   "source": [
    "b=2.5\n",
    "type(b)"
   ]
  },
  {
   "cell_type": "code",
   "execution_count": 35,
   "id": "fa959fbd-9049-495b-ac3c-35a18cb389c6",
   "metadata": {},
   "outputs": [
    {
     "data": {
      "text/plain": [
       "int"
      ]
     },
     "execution_count": 35,
     "metadata": {},
     "output_type": "execute_result"
    }
   ],
   "source": [
    "c=-6789\n",
    "type(c)"
   ]
  },
  {
   "cell_type": "code",
   "execution_count": 39,
   "id": "b0eb172c-ca9b-48ea-9b0e-3a18ee5b2485",
   "metadata": {},
   "outputs": [
    {
     "data": {
      "text/plain": [
       "complex"
      ]
     },
     "execution_count": 39,
     "metadata": {},
     "output_type": "execute_result"
    }
   ],
   "source": [
    "type(1*2j)"
   ]
  },
  {
   "cell_type": "code",
   "execution_count": 47,
   "id": "8f77c367-6990-4466-b206-98a9698be584",
   "metadata": {},
   "outputs": [
    {
     "data": {
      "text/plain": [
       "bool"
      ]
     },
     "execution_count": 47,
     "metadata": {},
     "output_type": "execute_result"
    }
   ],
   "source": [
    "type(False)"
   ]
  },
  {
   "cell_type": "code",
   "execution_count": 50,
   "id": "51a440ed-0c52-49bb-914c-266ec0b639b1",
   "metadata": {},
   "outputs": [
    {
     "data": {
      "text/plain": [
       "int"
      ]
     },
     "execution_count": 50,
     "metadata": {},
     "output_type": "execute_result"
    }
   ],
   "source": [
    "type(1*1)\n"
   ]
  },
  {
   "cell_type": "code",
   "execution_count": 51,
   "id": "8137142e-30e9-48d0-b262-15a6b9b50776",
   "metadata": {},
   "outputs": [
    {
     "data": {
      "text/plain": [
       "False"
      ]
     },
     "execution_count": 51,
     "metadata": {},
     "output_type": "execute_result"
    }
   ],
   "source": [
    "1>5"
   ]
  },
  {
   "cell_type": "code",
   "execution_count": 53,
   "id": "bb313f06-3256-4242-a5bd-f2bea32d58e5",
   "metadata": {},
   "outputs": [
    {
     "data": {
      "text/plain": [
       "True"
      ]
     },
     "execution_count": 53,
     "metadata": {},
     "output_type": "execute_result"
    }
   ],
   "source": [
    "6>1"
   ]
  },
  {
   "cell_type": "code",
   "execution_count": 57,
   "id": "a16e3ab0-bd23-4122-93d9-a9d8831a30c2",
   "metadata": {},
   "outputs": [
    {
     "data": {
      "text/plain": [
       "True"
      ]
     },
     "execution_count": 57,
     "metadata": {},
     "output_type": "execute_result"
    }
   ],
   "source": [
    "5==5"
   ]
  },
  {
   "cell_type": "code",
   "execution_count": 58,
   "id": "d185fa1a-2d12-4370-a205-25ee5b371915",
   "metadata": {},
   "outputs": [
    {
     "data": {
      "text/plain": [
       "'single qoute'"
      ]
     },
     "execution_count": 58,
     "metadata": {},
     "output_type": "execute_result"
    }
   ],
   "source": [
    "#string\n",
    "'single qoute'"
   ]
  },
  {
   "cell_type": "code",
   "execution_count": 60,
   "id": "186768e9-0e17-466a-93e0-9820f7a6b8b4",
   "metadata": {},
   "outputs": [
    {
     "data": {
      "text/plain": [
       "'double quote'"
      ]
     },
     "execution_count": 60,
     "metadata": {},
     "output_type": "execute_result"
    }
   ],
   "source": [
    "\"double quote\""
   ]
  },
  {
   "cell_type": "code",
   "execution_count": 66,
   "id": "a0a0d064-1ec1-4b62-8cf9-0ceeb8857f93",
   "metadata": {},
   "outputs": [
    {
     "name": "stdout",
     "output_type": "stream",
     "text": [
      "\n",
      "I am\n",
      "Sushama Sumb\n",
      "cool\n",
      "\n"
     ]
    }
   ],
   "source": [
    "multiline = \n",
    "\"\"\"\n",
    "I am\n",
    "Sushama Sumb\n",
    "cool\n",
    "\"\"\"\n",
    "print(multiline)"
   ]
  },
  {
   "cell_type": "code",
   "execution_count": 70,
   "id": "adf30e52-336a-4d9c-9416-0409409b04f1",
   "metadata": {},
   "outputs": [
    {
     "name": "stdout",
     "output_type": "stream",
     "text": [
      "first line \n",
      " second \n",
      " line\n"
     ]
    }
   ],
   "source": [
    "two_lines = 'first line \\n second \\n line'\n",
    "print(two_lines)"
   ]
  },
  {
   "cell_type": "code",
   "execution_count": 16,
   "id": "96bc8693-0fdc-458f-8a44-8d615f8cef11",
   "metadata": {},
   "outputs": [
    {
     "name": "stdout",
     "output_type": "stream",
     "text": [
      "<class 'list'>\n"
     ]
    }
   ],
   "source": [
    "list_of_fruits = ['apple', 'bananna', 'Cheery']\n",
    "print(type(list_of_fruits))"
   ]
  },
  {
   "cell_type": "code",
   "execution_count": 22,
   "id": "38bc7985-6f78-4f4e-b9c7-f4158e0ae08a",
   "metadata": {},
   "outputs": [
    {
     "data": {
      "text/plain": [
       "{'fruits': ('apple', 'bananna', 'Cheery'),\n",
       " 'sports': ['cricket', 'football', 'kabaddi'],\n",
       " 'dict': {'fruits': ('apple', 'bananna', 'Cheery'),\n",
       "  'sports': ['cricket', 'football', 'kabaddi']}}"
      ]
     },
     "execution_count": 22,
     "metadata": {},
     "output_type": "execute_result"
    }
   ],
   "source": [
    "{'fruits':('apple', 'bananna', 'Cheery'),'sports':['cricket','football','kabaddi'], 'dict': {'fruits':('apple', 'bananna', 'Cheery'),'sports':['cricket','football','kabaddi']}}"
   ]
  },
  {
   "cell_type": "code",
   "execution_count": 26,
   "id": "30f72704-a4e7-4b2c-ae6e-43dec4fe480d",
   "metadata": {},
   "outputs": [
    {
     "data": {
      "text/plain": [
       "[(1, 2, 3), ('a', 'b'), 0.5]"
      ]
     },
     "execution_count": 26,
     "metadata": {},
     "output_type": "execute_result"
    }
   ],
   "source": [
    "[(1,2,3),('a','b'),(0.5)]"
   ]
  },
  {
   "cell_type": "code",
   "execution_count": 32,
   "id": "6b32087c-b09c-4b6c-8ca6-6564faf36fcb",
   "metadata": {},
   "outputs": [
    {
     "name": "stdout",
     "output_type": "stream",
     "text": [
      "False\n"
     ]
    }
   ],
   "source": [
    "print(bool('apple' == 1))"
   ]
  },
  {
   "cell_type": "code",
   "execution_count": 5,
   "id": "b821776f-2e0b-44f7-999c-e65952bf4d96",
   "metadata": {},
   "outputs": [
    {
     "name": "stdout",
     "output_type": "stream",
     "text": [
      "['Mario', 'Elon', 'Trump', 'Luigi']\n"
     ]
    }
   ],
   "source": [
    "#append()  method of list\n",
    "\n",
    "people: list[str] = ['Mario', 'Elon', 'Trump']\n",
    "people.append('Luigi')\n",
    "print(people)"
   ]
  },
  {
   "cell_type": "code",
   "execution_count": 16,
   "id": "aa61d0be-ae48-4126-915a-f6c9a977278c",
   "metadata": {},
   "outputs": [
    {
     "name": "stdout",
     "output_type": "stream",
     "text": [
      "[]\n"
     ]
    }
   ],
   "source": [
    "#clear() method of list\n",
    "\n",
    "people = [\"sushama\", \"sharad\", \"pooja\"]\n",
    "people.clear()\n",
    "print(people)"
   ]
  },
  {
   "cell_type": "code",
   "execution_count": 51,
   "id": "49587026-725f-4d0c-b86f-276f58f1a668",
   "metadata": {},
   "outputs": [
    {
     "name": "stdout",
     "output_type": "stream",
     "text": [
      "['sushama', 'sharad', 'pooja']\n",
      "['sushama', 'sharad']\n"
     ]
    }
   ],
   "source": [
    "#copy() method of list\n",
    "\n",
    "people: list[str] = [\"sushama\", \"sharad\", \"pooja\"]\n",
    "copy_people:list[str] = people.copy()\n",
    "copy_people.remove(\"pooja\")\n",
    "print(people)\n",
    "print(copy_people)"
   ]
  },
  {
   "cell_type": "code",
   "execution_count": 26,
   "id": "d0be41b4-dade-4116-9c2a-c3b8515a2ed6",
   "metadata": {},
   "outputs": [
    {
     "name": "stdout",
     "output_type": "stream",
     "text": [
      "['sushama', 'sharad', 'pooja']\n",
      "['sushama', 'sharad', 'pooja']\n"
     ]
    }
   ],
   "source": [
    "people = [\"sushama\", \"sharad\", \"pooja\"]\n",
    "print(people)\n",
    "people2=people.copy()\n",
    "print(people2)"
   ]
  },
  {
   "cell_type": "code",
   "execution_count": 43,
   "id": "8dc01fec-712e-4a74-8f26-9b9e85292bf5",
   "metadata": {},
   "outputs": [
    {
     "name": "stdout",
     "output_type": "stream",
     "text": [
      "['sushama', 'sharad', 'ajay']\n",
      "['sushama', 'sharad']\n"
     ]
    }
   ],
   "source": [
    "people = [\"sushama\", \"sharad\", \"ajay\"]\n",
    "print(people)\n",
    "people2=people.copy()\n",
    "people2.remove(\"ajay\")\n",
    "print(people2)"
   ]
  },
  {
   "cell_type": "code",
   "execution_count": 49,
   "id": "8f586822-598f-4075-9978-0f4ad2653cf7",
   "metadata": {},
   "outputs": [
    {
     "name": "stdout",
     "output_type": "stream",
     "text": [
      "1\n"
     ]
    }
   ],
   "source": [
    "#count() method f list\n",
    "\n",
    "list_of_fruits = ['apple', 'bananna', 'Cherry']\n",
    "apple = list_of_fruits.count('apple')\n",
    "print(apple)"
   ]
  },
  {
   "cell_type": "code",
   "execution_count": 52,
   "id": "d3b027a0-56cf-4b65-8a62-96379cec24d3",
   "metadata": {},
   "outputs": [
    {
     "name": "stdout",
     "output_type": "stream",
     "text": [
      "['sushama', 'sharad', 'ajay']\n",
      "[]\n"
     ]
    }
   ],
   "source": [
    "#clear() method of list\n",
    "people = [\"sushama\", \"sharad\", \"ajay\"]\n",
    "print(people)\n",
    "people2=people.copy()\n",
    "people2.clear()\n",
    "print(people2)"
   ]
  },
  {
   "cell_type": "code",
   "execution_count": 54,
   "id": "f09bf5ca-4ca5-4671-b57f-a269b59955f1",
   "metadata": {
    "scrolled": true
   },
   "outputs": [
    {
     "name": "stdout",
     "output_type": "stream",
     "text": [
      "['apple', 'banana', 'cherry', 'Ford', 'BMW', 'tiago']\n",
      "['apple', 'banana', 'cherry', 'Ford', 'BMW', 'tiago', 'sharad', 'sushama']\n"
     ]
    }
   ],
   "source": [
    "fruits = ['apple', 'banana', 'cherry']\n",
    "cars = ['Ford', 'BMW', 'tiago']\n",
    "fruits.extend(cars)\n",
    "print(fruits)\n",
    "people = ['sharad', 'sushama']\n",
    "fruits.extend(people)\n",
    "print(fruits)"
   ]
  },
  {
   "cell_type": "code",
   "execution_count": 57,
   "id": "038e8e9b-1d82-463c-bc6f-3169e45db87f",
   "metadata": {},
   "outputs": [
    {
     "name": "stdout",
     "output_type": "stream",
     "text": [
      "['sushama', 'sharad', 'pooja', 'sushama', 'sharad', 'pooja']\n"
     ]
    }
   ],
   "source": [
    "#extend () method of list\n",
    "people = [\"sushama\", \"sharad\", \"pooja\"]\n",
    "people2 = ('reshma', 'ajay')\n",
    "people.extend(people)\n",
    "print(people)"
   ]
  },
  {
   "cell_type": "code",
   "execution_count": 60,
   "id": "856e08fe-d6f9-4edd-a356-324fad678b00",
   "metadata": {},
   "outputs": [
    {
     "name": "stdout",
     "output_type": "stream",
     "text": [
      "2\n"
     ]
    }
   ],
   "source": [
    "#index () method of list\n",
    "\n",
    "people = [\"sushama\", \"sharad\", \"pooja\"]\n",
    "x = people.index(\"pooja\")\n",
    "print(x)\n"
   ]
  },
  {
   "cell_type": "code",
   "execution_count": 61,
   "id": "8c779992-a15e-49fc-b34f-d753af6622d4",
   "metadata": {},
   "outputs": [
    {
     "name": "stdout",
     "output_type": "stream",
     "text": [
      "['apple', 'banana', 'cherry', 'orange']\n"
     ]
    }
   ],
   "source": [
    "#insert() method of list Adds an element at the specified position\n",
    "fruits = ['apple', 'banana', 'cherry']\n",
    "\n",
    "fruits.insert(3, \"orange\")\n",
    "\n",
    "print(fruits)\n"
   ]
  },
  {
   "cell_type": "code",
   "execution_count": null,
   "id": "4fe9161e-d755-4b40-b43a-e0f5afeb608f",
   "metadata": {},
   "outputs": [],
   "source": [
    "#pop() method of list \tRemoves the element at the specified position\n",
    "fruits = ['apple', 'banana', 'cherry']\n",
    "\n",
    "fruits.pop(1)\n",
    "\n",
    "print(fruits)\n"
   ]
  }
 ],
 "metadata": {
  "kernelspec": {
   "display_name": "Python 3 (ipykernel)",
   "language": "python",
   "name": "python3"
  },
  "language_info": {
   "codemirror_mode": {
    "name": "ipython",
    "version": 3
   },
   "file_extension": ".py",
   "mimetype": "text/x-python",
   "name": "python",
   "nbconvert_exporter": "python",
   "pygments_lexer": "ipython3",
   "version": "3.12.1"
  }
 },
 "nbformat": 4,
 "nbformat_minor": 5
}
